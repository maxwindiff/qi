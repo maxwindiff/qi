{
 "cells": [
  {
   "cell_type": "code",
   "execution_count": 1,
   "metadata": {},
   "outputs": [],
   "source": [
    "from IPython.display import display\n",
    "from ipywidgets import interact\n",
    "import ipywidgets as widgets\n",
    "from qiskit import *\n",
    "from qiskit.visualization import *\n",
    "from math import pi\n",
    "import numpy as np\n",
    "\n",
    "import warnings\n",
    "warnings.filterwarnings('ignore')"
   ]
  },
  {
   "cell_type": "code",
   "execution_count": 2,
   "metadata": {},
   "outputs": [
    {
     "data": {
      "application/vnd.jupyter.widget-view+json": {
       "model_id": "99b33390db224a88acee3258fcc8a5ef",
       "version_major": 2,
       "version_minor": 0
      },
      "text/plain": [
       "interactive(children=(FloatSlider(value=0.2, description='theta', max=3.141592653589793), Output()), _dom_clas…"
      ]
     },
     "metadata": {},
     "output_type": "display_data"
    }
   ],
   "source": [
    "@interact(theta=(0.0, pi, 0.1))\n",
    "def x(theta=0.2):\n",
    "  qc = QuantumCircuit(1)\n",
    "  h = [[0, 1], [1, 0]]\n",
    "  qc.hamiltonian(h, theta, [0])\n",
    "\n",
    "  backend = Aer.get_backend('statevector_simulator')\n",
    "  qobj = assemble(transpile(qc, backend))\n",
    "  state = backend.run(qobj).result().get_statevector()\n",
    "  return plot_bloch_multivector(state)"
   ]
  },
  {
   "cell_type": "code",
   "execution_count": 3,
   "metadata": {},
   "outputs": [
    {
     "data": {
      "application/vnd.jupyter.widget-view+json": {
       "model_id": "568147c1a5da460d9f9930178579281e",
       "version_major": 2,
       "version_minor": 0
      },
      "text/plain": [
       "interactive(children=(FloatSlider(value=0.2, description='theta', max=3.141592653589793), Output()), _dom_clas…"
      ]
     },
     "metadata": {},
     "output_type": "display_data"
    }
   ],
   "source": [
    "@interact(theta=(0.0, pi, 0.1))\n",
    "def y(theta=0.2):\n",
    "  qc = QuantumCircuit(1)\n",
    "  h = [[0, -1j], [1j, 0]]\n",
    "  qc.hamiltonian(h, theta, [0])\n",
    "\n",
    "  backend = Aer.get_backend('statevector_simulator')\n",
    "  qobj = assemble(transpile(qc, backend))\n",
    "  state = backend.run(qobj).result().get_statevector()\n",
    "  return plot_bloch_multivector(state)"
   ]
  },
  {
   "cell_type": "code",
   "execution_count": 4,
   "metadata": {},
   "outputs": [
    {
     "data": {
      "application/vnd.jupyter.widget-view+json": {
       "model_id": "5adfd39814dd4c18a3c3bc73dcd58f83",
       "version_major": 2,
       "version_minor": 0
      },
      "text/plain": [
       "interactive(children=(FloatSlider(value=0.2, description='theta', max=3.141592653589793), Output()), _dom_clas…"
      ]
     },
     "metadata": {},
     "output_type": "display_data"
    }
   ],
   "source": [
    "@interact(theta=(0.0, pi, 0.1))\n",
    "def z(theta=0.2):\n",
    "  qc = QuantumCircuit(1)\n",
    "  h = [[1, 0], [0, -1]]\n",
    "  qc.h(0)\n",
    "  qc.hamiltonian(h, theta, [0])\n",
    "\n",
    "  backend = Aer.get_backend('statevector_simulator')\n",
    "  qobj = assemble(transpile(qc, backend))\n",
    "  state = backend.run(qobj).result().get_statevector()\n",
    "  return plot_bloch_multivector(state)"
   ]
  }
 ],
 "metadata": {
  "interpreter": {
   "hash": "1f81d269ebdbacdb2376ab2db90287a1fc65847b6fbf4432e2856fb6ce6ffb85"
  },
  "kernelspec": {
   "display_name": "Python 3.9.7 ('qi')",
   "language": "python",
   "name": "python3"
  },
  "language_info": {
   "codemirror_mode": {
    "name": "ipython",
    "version": 3
   },
   "file_extension": ".py",
   "mimetype": "text/x-python",
   "name": "python",
   "nbconvert_exporter": "python",
   "pygments_lexer": "ipython3",
   "version": "3.9.10"
  },
  "orig_nbformat": 4
 },
 "nbformat": 4,
 "nbformat_minor": 2
}
